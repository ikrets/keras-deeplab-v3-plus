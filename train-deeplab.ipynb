{
 "cells": [
  {
   "cell_type": "code",
   "execution_count": 14,
   "metadata": {},
   "outputs": [
    {
     "name": "stdout",
     "output_type": "stream",
     "text": [
      "The autoreload extension is already loaded. To reload it, use:\n",
      "  %reload_ext autoreload\n"
     ]
    }
   ],
   "source": [
    "import sys\n",
    "import os\n",
    "import tensorflow as tf\n",
    "\n",
    "%load_ext autoreload\n",
    "%autoreload 2"
   ]
  },
  {
   "cell_type": "code",
   "execution_count": 2,
   "metadata": {},
   "outputs": [],
   "source": [
    "from model import Deeplabv3"
   ]
  },
  {
   "cell_type": "code",
   "execution_count": 4,
   "metadata": {},
   "outputs": [],
   "source": [
    "model_new = Deeplabv3(weights=None, \n",
    "                      OS=8, \n",
    "                      input_shape=(256, 640, 3), \n",
    "                      backbone='mobilenetv2', \n",
    "                      alpha=1.0, \n",
    "                      classes=2,\n",
    "                      weight_decay=0.0001,\n",
    "                      dropout=0.1)\n",
    "\n",
    "model_new.load_weights('../hopefully_right_starting_point.h5')"
   ]
  },
  {
   "cell_type": "code",
   "execution_count": 10,
   "metadata": {},
   "outputs": [],
   "source": [
    "from my_dataset import MyDataset\n",
    "\n",
    "train_dataset = MyDataset(filename='../train2.tfrecord',\n",
    "                              batch_size=4,\n",
    "                              shape=(256, 640),\n",
    "                              num_readers=4,\n",
    "                              num_classes=2,\n",
    "                              is_training=True,\n",
    "                              should_shuffle=True,\n",
    "                              should_repeat=True,\n",
    "                              should_augment=True).get()\n",
    "\n",
    "val_dataset = MyDataset(filename='../val2.tfrecord',\n",
    "                       batch_size=4,\n",
    "                       shape=(256, 640),\n",
    "                       num_readers=4,\n",
    "                       num_classes=2,\n",
    "                       is_training=True,\n",
    "                       should_shuffle=True,\n",
    "                       should_repeat=True,\n",
    "                       should_augment=False).get()"
   ]
  },
  {
   "cell_type": "code",
   "execution_count": 20,
   "metadata": {},
   "outputs": [],
   "source": [
    "def make_loss(class_weights):\n",
    "    num_classes = len(class_weights)\n",
    "    def loss(labels, pred):\n",
    "        weight_masks = []\n",
    "        for i in range(num_classes):\n",
    "            weight_masks.append(tf.cast(tf.equal(tf.argmax(labels, axis=-1), i), tf.float32) * class_weights[i])\n",
    "\n",
    "        return tf.compat.v1.losses.softmax_cross_entropy(\n",
    "            labels,\n",
    "            pred,\n",
    "            weights=tf.add_n(weight_masks))\n",
    "    \n",
    "    return loss"
   ]
  },
  {
   "cell_type": "code",
   "execution_count": 21,
   "metadata": {},
   "outputs": [],
   "source": [
    "adam = tf.keras.optimizers.Adam(lr=0.00001)\n",
    "model_new.compile(optimizer=adam, loss=make_loss([1., 50.]))"
   ]
  },
  {
   "cell_type": "code",
   "execution_count": null,
   "metadata": {},
   "outputs": [],
   "source": [
    "model_new.fit(train_dataset, epochs=100, steps_per_epoch=round(72/4),\n",
    "             validation_data=val_dataset,\n",
    "             validation_steps=round(25/4))"
   ]
  },
  {
   "cell_type": "code",
   "execution_count": 48,
   "metadata": {},
   "outputs": [],
   "source": [
    "model_new.save('depth1_color_aug_val054-059.h5')"
   ]
  },
  {
   "cell_type": "code",
   "execution_count": 21,
   "metadata": {},
   "outputs": [],
   "source": [
    "from PIL import Image\n",
    "import numpy as np\n",
    "import matplotlib.pyplot as plt"
   ]
  },
  {
   "cell_type": "code",
   "execution_count": 130,
   "metadata": {},
   "outputs": [],
   "source": [
    "sample = np.array(Image.open('/home/ubuntu/dataset/images/home23_02_2019-02-23-11-55-12_0_frame0671.jpg'))\n",
    "sample = (sample * 2.0 / 255.0) - 1.0"
   ]
  },
  {
   "cell_type": "code",
   "execution_count": 49,
   "metadata": {},
   "outputs": [],
   "source": [
    "eval_dir = '/home/ubuntu/2019-02-23-11-55-12_0/'\n",
    "evals = [os.path.join(eval_dir, f) for f in os.listdir(eval_dir)]"
   ]
  },
  {
   "cell_type": "code",
   "execution_count": 50,
   "metadata": {},
   "outputs": [],
   "source": [
    "alpha = 0.4\n",
    "eval_out_dir = '/home/ubuntu/eval_2019-02-23-11-55-12_0/'\n",
    "if not os.path.exists(eval_out_dir):\n",
    "    os.makedirs(eval_out_dir)\n",
    "\n",
    "for e in list(os.listdir(eval_dir)):\n",
    "    i = np.array(Image.open(os.path.join(eval_dir, e)))\n",
    "    i = i[-256:, :, :]\n",
    "    pred = model_new.predict(np.expand_dims(i * 2.0 / 255.0 - 1.0, axis=0))\n",
    "    \n",
    "    pred = np.argmax(np.squeeze(pred), axis=2)\n",
    "    i[pred == 1] = alpha * np.array([0, 255, 0]) + (1 - alpha) * i[pred == 1] \n",
    "    \n",
    "    i = Image.fromarray(i)\n",
    "    i.save(os.path.join(eval_out_dir, e))"
   ]
  },
  {
   "cell_type": "code",
   "execution_count": 164,
   "metadata": {},
   "outputs": [],
   "source": [
    "def plot_pred(pred):\n",
    "    pred = np.squeeze(pred)\n",
    "    pred = np.argmax(pred, axis=2)\n",
    "    \n",
    "\n",
    "    plt.imshow(pred)"
   ]
  },
  {
   "cell_type": "code",
   "execution_count": 140,
   "metadata": {},
   "outputs": [
    {
     "data": {
      "text/plain": [
       "<matplotlib.image.AxesImage at 0x7fd8bbc6dba8>"
      ]
     },
     "execution_count": 140,
     "metadata": {},
     "output_type": "execute_result"
    },
    {
     "data": {
      "image/png": "[encoded data removed]",
      "text/plain": [
       "<Figure size 432x288 with 1 Axes>"
      ]
     },
     "metadata": {},
     "output_type": "display_data"
    }
   ],
   "source": [
    "true = np.array(Image.open('/home/ubuntu/dataset/masks/home23_02_2019-02-23-11-55-12_0_frame0671.png'))\n",
    "plt.imshow(true)"
   ]
  },
  {
   "cell_type": "code",
   "execution_count": null,
   "metadata": {},
   "outputs": [],
   "source": []
  }
 ],
 "metadata": {
  "kernelspec": {
   "display_name": "Python 3",
   "language": "python",
   "name": "python3"
  },
  "language_info": {
   "codemirror_mode": {
    "name": "ipython",
    "version": 3
   },
   "file_extension": ".py",
   "mimetype": "text/x-python",
   "name": "python",
   "nbconvert_exporter": "python",
   "pygments_lexer": "ipython3",
   "version": "3.5.2"
  }
 },
 "nbformat": 4,
 "nbformat_minor": 2
}
